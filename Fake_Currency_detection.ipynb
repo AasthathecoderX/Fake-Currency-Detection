{
  "nbformat": 4,
  "nbformat_minor": 0,
  "metadata": {
    "colab": {
      "provenance": [],
      "mount_file_id": "1ZEvteWiYZcPu8tWScvdqSXoG5ld0iaEn",
      "authorship_tag": "ABX9TyMVpgvAqnBKZ42POwO8vycd",
      "include_colab_link": true
    },
    "kernelspec": {
      "name": "python3",
      "display_name": "Python 3"
    },
    "language_info": {
      "name": "python"
    }
  },
  "cells": [
    {
      "cell_type": "markdown",
      "metadata": {
        "id": "view-in-github",
        "colab_type": "text"
      },
      "source": [
        "<a href=\"https://colab.research.google.com/github/AasthathecoderX/Fake-Currency-Detection/blob/main/Fake_Currency_detection.ipynb\" target=\"_parent\"><img src=\"https://colab.research.google.com/assets/colab-badge.svg\" alt=\"Open In Colab\"/></a>"
      ]
    },
    {
      "cell_type": "code",
      "execution_count": null,
      "metadata": {
        "id": "gZzdJdzxlNQL"
      },
      "outputs": [],
      "source": [
        "from tensorflow.keras.layers import Input, Lambda, Dense, Flatten  #Layers for defining the structure of neural networks.\n",
        "from tensorflow.keras.models import Model  #Used to create complex models with multiple layers.\n",
        "from tensorflow.keras.preprocessing import image\n",
        "from tensorflow.keras.preprocessing.image import ImageDataGenerator,load_img  #For generating augmented image batches and loading images.\n",
        "from tensorflow.keras.models import Sequential  # For creating models layer-by-layer.\n",
        "from tensorflow.keras.layers import MaxPooling2D\n",
        "from tensorflow.keras.layers import Conv2D      #Layers for convolutional neural networks.\n",
        "\n",
        "import numpy as np\n",
        "from glob import glob\n",
        "\n"
      ]
    },
    {
      "cell_type": "code",
      "source": [
        "# re-size all the images to this\n",
        "IMAGE_SIZE = [224, 224]\n",
        "\n",
        "train_path = '/content/drive/My Drive/Colab Notebooks/Datasets/Train'\n",
        "valid_path = '/content/drive/My Drive/Colab Notebooks/Datasets/Test'"
      ],
      "metadata": {
        "id": "svFipL_omE1a"
      },
      "execution_count": null,
      "outputs": []
    },
    {
      "cell_type": "code",
      "source": [
        "folders = glob('/content/drive/My Drive/Colab Notebooks/Datasets/Train/*')"
      ],
      "metadata": {
        "id": "SGRsxV11mIm0"
      },
      "execution_count": null,
      "outputs": []
    },
    {
      "cell_type": "code",
      "source": [
        "folders\n",
        "\n"
      ],
      "metadata": {
        "id": "BboAuw__mLsX"
      },
      "execution_count": null,
      "outputs": []
    },
    {
      "cell_type": "code",
      "source": [],
      "metadata": {
        "id": "oe_OEm3smdkW"
      },
      "execution_count": null,
      "outputs": []
    },
    {
      "cell_type": "code",
      "source": [
        "import matplotlib.image as mpimg\n",
        "from glob import glob\n",
        "import os\n",
        "import matplotlib.pyplot as plt\n",
        "train_image_files = glob(os.path.join(train_path, '*/*.jpg'))\n",
        "\n",
        "# Display some sample images from the training directory\n",
        "num_images_to_display = 5\n",
        "for img_path in train_image_files[:num_images_to_display]:\n",
        "    img = mpimg.imread(img_path)\n",
        "    plt.imshow(img)\n",
        "    plt.axis('off')\n",
        "    plt.show()"
      ],
      "metadata": {
        "id": "yKcSRsE_mSz_"
      },
      "execution_count": null,
      "outputs": []
    },
    {
      "cell_type": "code",
      "source": [
        "import os\n",
        "from tensorflow.keras.preprocessing import image\n",
        "from tensorflow.keras.preprocessing.image import ImageDataGenerator\n",
        "from tensorflow.keras.applications.mobilenet import MobileNet\n",
        "from tensorflow.keras.applications.mobilenet import preprocess_input\n",
        "from tensorflow.keras.layers import Dense, GlobalAveragePooling2D\n",
        "from tensorflow.keras.models import Model\n",
        "from tensorflow.keras.optimizers import Adam\n",
        "\n",
        "datagen = ImageDataGenerator(rescale=1./255, shear_range=0.2, zoom_range=0.2, horizontal_flip=True)\n",
        "train_set = datagen.flow_from_directory(train_path, target_size=(IMAGE_SIZE[0], IMAGE_SIZE[1]), batch_size=32, class_mode='categorical')\n",
        "valid_set = datagen.flow_from_directory(valid_path, target_size=(IMAGE_SIZE[0], IMAGE_SIZE[1]), batch_size=32, class_mode='categorical')\n",
        "\n",
        "# Load MobileNet model with pre-trained weights, excluding the top (fully connected) layers\n",
        "base_model = MobileNet(weights='imagenet', include_top=False)\n",
        "\n",
        "# Add custom top layers for classification\n",
        "x = base_model.output\n",
        "x = GlobalAveragePooling2D()(x)\n",
        "x = Dense(1024, activation='relu')(x)\n",
        "x = Dense(1024, activation='relu')(x)\n",
        "x = Dense(512, activation='relu')(x)\n",
        "preds = Dense(len(folders), activation='softmax')(x)  # Assuming one node for each class\n",
        "\n",
        "# Create the model\n",
        "model = Model(inputs=base_model.input, outputs=preds)\n",
        "\n",
        "# Compile the model\n",
        "model.compile(optimizer=Adam(learning_rate=0.0001), loss='categorical_crossentropy', metrics=['accuracy'])\n",
        "\n",
        "# Train the model\n",
        "hist=model.fit(train_set, validation_data=valid_set, epochs=10, steps_per_epoch=len(train_set), validation_steps=len(valid_set))"
      ],
      "metadata": {
        "id": "xqWSUabImfYz"
      },
      "execution_count": null,
      "outputs": []
    },
    {
      "cell_type": "code",
      "source": [
        "import matplotlib.pyplot as plt\n",
        "plt.plot(hist.history['accuracy'], label='Training Accuracy')\n",
        "plt.plot(hist.history['val_accuracy'], label='Validation Accuracy')\n",
        "plt.title('Training and Validation Accuracy')\n",
        "plt.xlabel('Epoch')\n",
        "plt.ylabel('Accuracy')\n",
        "plt.legend()\n",
        "plt.show()\n",
        "\n"
      ],
      "metadata": {
        "id": "5_awQbSOmlA9"
      },
      "execution_count": null,
      "outputs": []
    },
    {
      "cell_type": "code",
      "source": [
        "model.save(\"fake_currrecy_detection.keras\")"
      ],
      "metadata": {
        "id": "t7q_NIl6nD-q"
      },
      "execution_count": null,
      "outputs": []
    },
    {
      "cell_type": "code",
      "source": [
        "# Load the saved model\n",
        "import tensorflow as tf\n",
        "\n",
        "loaded_model = tf.keras.models.load_model('/content/fake_currrecy_detection.keras')"
      ],
      "metadata": {
        "id": "XmgsRs95nJMd"
      },
      "execution_count": null,
      "outputs": []
    },
    {
      "cell_type": "code",
      "source": [
        "import numpy as np\n",
        "from tensorflow.keras.preprocessing import image\n",
        "\n",
        "test_image_path = '/content/drive/My Drive/Colab Notebooks/Datasets/Test/1Hundrednote/1.jpg'  # Change this to the path of your test image\n",
        "\n",
        "# Load the test image\n",
        "test_img = image.load_img(test_image_path, target_size=IMAGE_SIZE)\n",
        "test_img_array = image.img_to_array(test_img)\n",
        "test_img_array = np.expand_dims(test_img_array, axis=0)  # Add batch dimension\n",
        "\n",
        "# Normalize the image data\n",
        "test_img_array = test_img_array / 255.0\n",
        "\n",
        "# Make prediction\n",
        "predictions = loaded_model.predict(test_img_array)\n",
        "\n",
        "# Class labels (ensure these match your training data classes)\n",
        "# You can get the class labels from the training data generator:\n",
        "# class_labels = list(train_set.class_indices.keys())\n",
        "# For now, let's use the folder names obtained earlier\n",
        "class_labels = [os.path.basename(folder) for folder in glob('/content/drive/My Drive/Colab Notebooks/Datasets/Train/*')]\n",
        "\n",
        "\n",
        "# Get the predicted class label\n",
        "predicted_class_index = np.argmax(predictions[0])\n",
        "predicted_class_label = class_labels[predicted_class_index]\n",
        "\n",
        "print(\"Predicted class:\", predicted_class_label)"
      ],
      "metadata": {
        "id": "y8JOTRrVnPyr"
      },
      "execution_count": null,
      "outputs": []
    },
    {
      "cell_type": "code",
      "source": [
        "from tensorflow.keras.models import Sequential\n",
        "from tensorflow.keras.layers import Conv2D, MaxPooling2D, Flatten, Dense\n",
        "from tensorflow.keras.optimizers import Adam\n",
        "\n",
        "# Define the CNN model\n",
        "model = Sequential([\n",
        "    Conv2D(16, (3, 3), activation='relu', input_shape=(224, 224, 3)),\n",
        "    MaxPooling2D((2, 2)),\n",
        "    Conv2D(32, (3, 3), activation='relu'),\n",
        "    MaxPooling2D((2, 2)),\n",
        "    #Conv2D(128, (3, 3), activation='relu'),\n",
        "    #MaxPooling2D((2, 2)),\n",
        "    Flatten(),\n",
        "    Dense(120, activation='relu'),\n",
        "    Dense(len(folders), activation='softmax')  # Change to 7 units and softmax for 7 classes\n",
        "])\n",
        "\n",
        "# Compile the model\n",
        "model.compile(optimizer='adam',\n",
        "              loss='categorical_crossentropy', # Change loss for multi-class classification\n",
        "              metrics=['accuracy'])\n",
        "\n",
        "# Display model summary\n",
        "model.summary()\n",
        "\n",
        "# Train the model\n",
        "history = model.fit(train_set, epochs=5, validation_data=valid_set)\n",
        "\n",
        "# Save the trained model\n",
        "model.save(\"cnn_model.h5\")"
      ],
      "metadata": {
        "id": "cw1JwGurnXdb"
      },
      "execution_count": null,
      "outputs": []
    },
    {
      "cell_type": "code",
      "source": [
        "from tensorflow.keras.applications import ResNet50\n",
        "from tensorflow.keras.models import Model\n",
        "from tensorflow.keras.layers import Dense, GlobalAveragePooling2D\n",
        "\n",
        "# Load the pre-trained ResNet50 model\n",
        "base_model = ResNet50(weights='imagenet', include_top=False)\n",
        "\n",
        "# Add custom classification layers on top\n",
        "x = base_model.output\n",
        "x = GlobalAveragePooling2D()(x)\n",
        "x = Dense(128, activation='relu')(x)\n",
        "predictions = Dense(len(folders), activation='softmax')(x) # Change to 7 units and softmax for 7 classes\n",
        "\n",
        "# Combine the base model with custom classification layers\n",
        "model = Model(inputs=base_model.input, outputs=predictions)\n",
        "\n",
        "# Freeze the base model layers\n",
        "for layer in base_model.layers:\n",
        "    layer.trainable = False\n",
        "\n",
        "# Compile the model\n",
        "model.compile(optimizer='adam',\n",
        "              loss='categorical_crossentropy', # Change loss for multi-class classification\n",
        "              metrics=['accuracy'])\n",
        "\n",
        "# Train the model\n",
        "history = model.fit(train_set, epochs=5, validation_data=valid_set)\n",
        "\n",
        "# Save the trained model\n",
        "model.save(\"resnet_model.h5\")"
      ],
      "metadata": {
        "id": "sFSLaHJanfhX"
      },
      "execution_count": null,
      "outputs": []
    },
    {
      "cell_type": "code",
      "source": [
        "import seaborn as sns\n",
        "import matplotlib.pyplot as plt\n",
        "\n",
        "# Extract accuracies from the training history of each model\n",
        "mobile_acc = hist.history['accuracy'][-1]  # Taking the final accuracy value\n",
        "cnn_acc = history.history['accuracy'][-1]  # Taking the final accuracy value\n",
        "resnet_acc = history.history['accuracy'][-1]  # Taking the final accuracy value\n",
        "\n",
        "# Create a DataFrame\n",
        "data = {\n",
        "    'Model': ['Proposed_model', 'CNN', 'ResNet50'],\n",
        "    'Accuracy': [mobile_acc, cnn_acc, resnet_acc]\n",
        "}\n",
        "\n",
        "# Create a bar plot using Seaborn\n",
        "plt.figure(figsize=(10, 9))  # Increase plot size\n",
        "sns.barplot(x='Model', y='Accuracy', data=data)\n",
        "\n",
        "# Add title and labels\n",
        "plt.title('Comparison of Model Accuracies')\n",
        "plt.xlabel('Model')\n",
        "plt.ylabel('Accuracy')\n",
        "\n",
        "\n",
        "plt.show()\n",
        "\n"
      ],
      "metadata": {
        "id": "YfqvhbzToru0"
      },
      "execution_count": null,
      "outputs": []
    }
  ]
}